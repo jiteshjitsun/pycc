{
 "metadata": {
  "language_info": {
   "codemirror_mode": {
    "name": "ipython",
    "version": 3
   },
   "file_extension": ".py",
   "mimetype": "text/x-python",
   "name": "python",
   "nbconvert_exporter": "python",
   "pygments_lexer": "ipython3",
   "version": "3.9.1"
  },
  "orig_nbformat": 2,
  "kernelspec": {
   "name": "python391jvsc74a57bd0ff1fe500db97e83795070d10509dc6e307685222da42e4883acbaf8b3c210d5e",
   "display_name": "Python 3.9.1 64-bit"
  },
  "metadata": {
   "interpreter": {
    "hash": "ff1fe500db97e83795070d10509dc6e307685222da42e4883acbaf8b3c210d5e"
   }
  }
 },
 "nbformat": 4,
 "nbformat_minor": 2,
 "cells": [
  {
   "cell_type": "code",
   "execution_count": 7,
   "metadata": {},
   "outputs": [
    {
     "output_type": "stream",
     "name": "stdout",
     "text": [
      "<class 'bool'>\n"
     ]
    }
   ],
   "source": [
    "a = True\n",
    "print(type(a))"
   ]
  },
  {
   "cell_type": "code",
   "execution_count": 9,
   "metadata": {},
   "outputs": [
    {
     "output_type": "stream",
     "name": "stdout",
     "text": [
      "Hey this is admin of techtie.\n"
     ]
    }
   ],
   "source": [
    "str1 = \"hey this is admin of techtie.\"\n",
    "print(str1.capitalize())"
   ]
  },
  {
   "cell_type": "code",
   "execution_count": 10,
   "metadata": {},
   "outputs": [
    {
     "output_type": "stream",
     "name": "stdout",
     "text": [
      "8\n"
     ]
    }
   ],
   "source": [
    "str2 = \"This is Jitesh\"\n",
    "print(str2.find(\"Jitesh\"))"
   ]
  },
  {
   "cell_type": "code",
   "execution_count": 12,
   "metadata": {},
   "outputs": [
    {
     "output_type": "stream",
     "name": "stdout",
     "text": [
      "MAKE THIS STRING IN UPPER CASE\n"
     ]
    }
   ],
   "source": [
    "str3 = \"Make this string in upper case\"\n",
    "print(str3.upper())"
   ]
  },
  {
   "cell_type": "code",
   "execution_count": 16,
   "metadata": {},
   "outputs": [
    {
     "output_type": "stream",
     "name": "stdout",
     "text": [
      "3\n<class 'list'>\n"
     ]
    }
   ],
   "source": [
    "# list size ( list is mutable )\n",
    "items = [1,2,\"Jitesh\"]\n",
    "print(len(items))\n",
    "print(type(items))"
   ]
  },
  {
   "cell_type": "code",
   "execution_count": 21,
   "metadata": {},
   "outputs": [
    {
     "output_type": "stream",
     "name": "stdout",
     "text": [
      "1\n"
     ]
    }
   ],
   "source": [
    "# we cannot change tuple value ( it is immutable)\n",
    "tupl = (1,2,3)\n",
    "print(tupl[0])"
   ]
  },
  {
   "cell_type": "code",
   "execution_count": 38,
   "metadata": {},
   "outputs": [
    {
     "output_type": "stream",
     "name": "stdout",
     "text": [
      "{7: 'sunny', 2: 'jitesh', 3: 'sunny'}\ndict_items([(7, 'sunny'), (2, 'jitesh'), (3, 'sunny')])\ndict_keys([7, 2, 3])\n"
     ]
    }
   ],
   "source": [
    "# dictionary \n",
    "dict1 = {7:\"sunny\",2:\"jitesh\",3:\"jitsun\"}\n",
    "dict1[3] = \"sunny\"\n",
    "print(dict1)\n",
    "print(dict1.items())\n",
    "print(dict1.keys())"
   ]
  },
  {
   "cell_type": "code",
   "execution_count": 39,
   "metadata": {},
   "outputs": [
    {
     "output_type": "stream",
     "name": "stdout",
     "text": [
      "{0, 1, 2, 3, 8, 9}\n"
     ]
    }
   ],
   "source": [
    "# sets \n",
    "item2 = [1,2,2,3,3,8,9,0]\n",
    "print(set(item2))"
   ]
  },
  {
   "cell_type": "code",
   "execution_count": 42,
   "metadata": {},
   "outputs": [
    {
     "output_type": "stream",
     "name": "stdout",
     "text": [
      "jitesh 6\n"
     ]
    }
   ],
   "source": [
    "a = \"jitesh\"\n",
    "b = 2\n",
    "c = 4\n",
    "print(a+\" \"+str(b+c))"
   ]
  },
  {
   "cell_type": "code",
   "execution_count": 46,
   "metadata": {},
   "outputs": [
    {
     "output_type": "stream",
     "name": "stdout",
     "text": [
      "1\n2\n3\n4\n5\n"
     ]
    }
   ],
   "source": [
    "# loops\n",
    "lis = [1,2,4,5,2,3,4,5]\n",
    "b = set(lis)\n",
    "for i in b:\n",
    "    print(i)"
   ]
  },
  {
   "cell_type": "code",
   "execution_count": 49,
   "metadata": {},
   "outputs": [
    {
     "output_type": "stream",
     "name": "stdout",
     "text": [
      "0\n1\n"
     ]
    }
   ],
   "source": [
    "# while loop\n",
    "i = 0 \n",
    "while(i<=1):\n",
    "    print(i)\n",
    "    i+=1"
   ]
  },
  {
   "cell_type": "code",
   "execution_count": 51,
   "metadata": {},
   "outputs": [
    {
     "output_type": "stream",
     "name": "stdout",
     "text": [
      "12.5\n"
     ]
    }
   ],
   "source": [
    "# functions \n",
    "def average(n1,n2):\n",
    "    return (n1+n2)/2\n",
    "print(average(23,2))"
   ]
  },
  {
   "cell_type": "code",
   "execution_count": 55,
   "metadata": {},
   "outputs": [
    {
     "output_type": "stream",
     "name": "stdout",
     "text": [
      "name 'jittu' is not defined\n"
     ]
    }
   ],
   "source": [
    "try:\n",
    "    print(jittu)\n",
    "except Exception as e:\n",
    "    print(e)\n"
   ]
  },
  {
   "cell_type": "code",
   "execution_count": 62,
   "metadata": {},
   "outputs": [],
   "source": [
    "# write to file\n",
    "f = open(\"1.txt\", \"w\")\n",
    "f.write(\"Jai shrila Prabhupad\")\n",
    "f.close()"
   ]
  },
  {
   "cell_type": "code",
   "execution_count": 63,
   "metadata": {},
   "outputs": [
    {
     "output_type": "stream",
     "name": "stdout",
     "text": [
      "Jai shrila Prabhupad\n"
     ]
    }
   ],
   "source": [
    "# read from file \n",
    "f = open(\"1.txt\", \"r\")\n",
    "content = f.read()\n",
    "f.close()\n",
    "print(content)"
   ]
  },
  {
   "cell_type": "code",
   "execution_count": 82,
   "metadata": {},
   "outputs": [
    {
     "output_type": "stream",
     "name": "stdout",
     "text": [
      "Hey this is Jitesh kumar Singh\nHey this is Jitesh kumar Singh\nHey this is Jitesh kumar Singh\n"
     ]
    }
   ],
   "source": [
    "# different methods to print\n",
    "a = \"Jitesh\"\n",
    "b = \"kumar Singh\"\n",
    "print(\"Hey this is\",a,b)\n",
    "print(f'Hey this is {a} {b}')\n",
    "print('Hey this is {} {}'.format(a,b))"
   ]
  },
  {
   "cell_type": "code",
   "execution_count": 100,
   "metadata": {},
   "outputs": [
    {
     "output_type": "stream",
     "name": "stdout",
     "text": [
      "Hey World\n"
     ]
    }
   ],
   "source": [
    "# captalize every word\r\n",
    "from camelcase import CamelCase\r\n",
    "c = CamelCase()\r\n",
    "print(c.hump(\"hey world\"))"
   ]
  },
  {
   "cell_type": "code",
   "execution_count": 97,
   "metadata": {},
   "outputs": [
    {
     "output_type": "stream",
     "name": "stdout",
     "text": [
      "1623329126.8029616\n2021-06-10\n"
     ]
    }
   ],
   "source": [
    "# models \n",
    "import datetime\n",
    "from datetime import date\n",
    "import time \n",
    "from time import time\n",
    "# today = datetime.date.today()\n",
    "today = date.today()\n",
    "\n",
    "timestamp = time()\n",
    "print(timestamp)\n",
    "print(today)"
   ]
  },
  {
   "cell_type": "code",
   "execution_count": 9,
   "metadata": {},
   "outputs": [
    {
     "output_type": "stream",
     "name": "stdout",
     "text": [
      "this is Jitesh Singh and he is 21 year old\n"
     ]
    }
   ],
   "source": [
    "# classes \n",
    "class User:\n",
    "    # constructer \n",
    "    def __init__(self,name,email,age):\n",
    "        self.name = name \n",
    "        self.email = email\n",
    "        self.age = age\n",
    "    # method\n",
    "    def generate(self):\n",
    "        return f'this is {self.name} and he is {self.age} year old'\n",
    "\n",
    "    def inc_age(self):\n",
    "        self.age += 1\n",
    "# Init user object\n",
    "jitesh = User(\"Jitesh Singh\",\"Jitesh@Singh.com\",20)\n",
    "jitesh.inc_age()\n",
    "print(jitesh.generate())\n"
   ]
  },
  {
   "cell_type": "code",
   "execution_count": null,
   "metadata": {},
   "outputs": [],
   "source": []
  },
  {
   "cell_type": "code",
   "execution_count": null,
   "metadata": {},
   "outputs": [],
   "source": []
  }
 ]
}